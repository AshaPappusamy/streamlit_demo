{
 "cells": [
  {
   "cell_type": "code",
   "execution_count": null,
   "id": "13a42352-fd9f-43c7-88d6-ab9766159da9",
   "metadata": {},
   "outputs": [],
   "source": [
    "sqlalchemy\n",
    "pandas \n",
    "streamlit"
   ]
  }
 ],
 "metadata": {
  "kernelspec": {
   "display_name": "Python [conda env:streamlitenv]",
   "language": "python",
   "name": "conda-env-streamlitenv-py"
  },
  "language_info": {
   "codemirror_mode": {
    "name": "ipython",
    "version": 3
   },
   "file_extension": ".py",
   "mimetype": "text/x-python",
   "name": "python",
   "nbconvert_exporter": "python",
   "pygments_lexer": "ipython3",
   "version": "3.12.9"
  }
 },
 "nbformat": 4,
 "nbformat_minor": 5
}
